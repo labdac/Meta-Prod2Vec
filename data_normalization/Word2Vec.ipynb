{
 "cells": [
  {
   "cell_type": "markdown",
   "metadata": {},
   "source": [
    "# Model\n",
    "Let's use word2vec to train a user intent model. Nothing too fancy."
   ]
  },
  {
   "cell_type": "code",
   "execution_count": null,
   "metadata": {},
   "outputs": [],
   "source": [
    "import gensim\n",
    "from idomaar import *\n",
    "import progressbar\n",
    "import logging\n",
    "logging.basicConfig(format='%(asctime)s : %(levelname)s : %(message)s', level=logging.INFO)"
   ]
  },
  {
   "cell_type": "code",
   "execution_count": null,
   "metadata": {},
   "outputs": [],
   "source": [
    "class PlaylistIterator():\n",
    "    def __init__(self, path, verbose=0):\n",
    "        self.path = path\n",
    "        if verbose < 0:\n",
    "            raise ValueError(\"verbosity level must be above or equal to 0\")\n",
    "        self.verbose = verbose\n",
    "        self.reader = idomaarReader(self.path, tolerant=False)\n",
    "        \n",
    "    def preload_metadata(self, filename, expected_number = 0):\n",
    "        self.reader.preload_entities(filename, expected_number)\n",
    "    def __iter__(self):      \n",
    "        self.reader.__enter__()\n",
    "        if self.verbose == 0:\n",
    "            iterator = self.reader\n",
    "        else:\n",
    "            iterator = progressbar.progressbar(ier)\n",
    "        for playlist in iterator:\n",
    "            try:\n",
    "                #if self.tracks_file is None:\n",
    "                #    yield [str(x.id) for x in playlist.linked.objects]\n",
    "                #else:\n",
    "                strings =  [\"track_{} artist_{}\".format(x.id, x.linked.artists[0].id)\n",
    "                      for x in playlist.linked.objects]\n",
    "                yield [item for string in strings for item in string.split(\" \")]\n",
    "            except Exception as e:\n",
    "                print(e)\n",
    "                print(playlist)\n",
    "                raise\n",
    "        self.reader.__exit__()"
   ]
  },
  {
   "cell_type": "markdown",
   "metadata": {},
   "source": [
    "# Sessions and playlists based similarity"
   ]
  },
  {
   "cell_type": "code",
   "execution_count": null,
   "metadata": {
    "scrolled": true
   },
   "outputs": [],
   "source": [
    "playliterator = PlaylistIterator(\"../data/ThirtyMusic/entities/playlist.idomaar\")\n",
    "#playliterator.preload_metadata(\"../data/ThirtyMusic/entities/persons.idomaar\", 595049)\n",
    "#playliterator.preload_metadata(\"../data/ThirtyMusic/entities/tracks.idomaar\", 5675143)"
   ]
  },
  {
   "cell_type": "code",
   "execution_count": null,
   "metadata": {
    "scrolled": true
   },
   "outputs": [],
   "source": [
    "playliterator.preload_metadata(\"../data/ThirtyMusic/entities/tracks.idomaar\", 5675143)"
   ]
  },
  {
   "cell_type": "code",
   "execution_count": null,
   "metadata": {},
   "outputs": [],
   "source": [
    "idomaarRegistry.registry[\"track\"][0].linked.artists[0].properties"
   ]
  },
  {
   "cell_type": "code",
   "execution_count": null,
   "metadata": {},
   "outputs": [],
   "source": [
    "j = 0 \n",
    "for playlist in playliterator:\n",
    "    j+=1\n",
    "    if j>3: break\n",
    "    print(playlist)"
   ]
  },
  {
   "cell_type": "code",
   "execution_count": null,
   "metadata": {},
   "outputs": [],
   "source": [
    "import os\n",
    "\n",
    "def w2v_model(session, out, overwrite=False, min_count=1, workers=4, size=100):\n",
    "    if not overwrite and os.path.exists(out):\n",
    "        return gensim.models.Word2Vec.load(out)\n",
    "    playliterator = PlaylistIterator(session)\n",
    "    playliterator.preload_metadata(\"../data/ThirtyMusic/entities/persons.idomaar\", 595049)\n",
    "    playliterator.preload_metadata(\"../data/ThirtyMusic/entities/tracks.idomaar\", )\n",
    "    model = gensim.models.Word2Vec(playliterator, min_count=min_count, workers=workers, size=size)\n",
    "    model.save(out)\n",
    "    return model"
   ]
  },
  {
   "cell_type": "code",
   "execution_count": null,
   "metadata": {},
   "outputs": [],
   "source": []
  },
  {
   "cell_type": "code",
   "execution_count": null,
   "metadata": {},
   "outputs": [],
   "source": [
    "model = w2v_model(\"../data/ThirtyMusic/entities/playlist.idomaar\", \"cheap_playlists.w2v\", overwrite=True, workers=8, size=100)"
   ]
  },
  {
   "cell_type": "code",
   "execution_count": null,
   "metadata": {},
   "outputs": [],
   "source": [
    "# this will likely take over your ram\n",
    "#model = w2v_model(\"../data/ThirtyMusic/relations/sessions.idomaar\", \"cheap_sessions.w2v\", overwrite=True, workers=8, size=30)"
   ]
  },
  {
   "cell_type": "markdown",
   "metadata": {},
   "source": [
    "# Songs data "
   ]
  },
  {
   "cell_type": "code",
   "execution_count": null,
   "metadata": {},
   "outputs": [],
   "source": [
    "import pandas as pd\n",
    "from idomaar import *\n",
    "import progressbar\n",
    "import logging\n",
    "logging.basicConfig(format='%(asctime)s : %(levelname)s : %(message)s', level=logging.INFO)"
   ]
  },
  {
   "cell_type": "code",
   "execution_count": null,
   "metadata": {},
   "outputs": [],
   "source": [
    "!head -n5 ../data/ThirtyMusic/entities/tracks.idomaar"
   ]
  },
  {
   "cell_type": "code",
   "execution_count": null,
   "metadata": {},
   "outputs": [],
   "source": [
    "def idomaar_df(path): # TODO: chunksize\n",
    "    def row_reader():\n",
    "        with idomaarReader(path) as ier:\n",
    "            for t in progressbar.progressbar(ier):\n",
    "                p = t.properties\n",
    "                yield [t.id, p.MBID, p.duration, p.name, p.playcount]\n",
    "    df = pd.DataFrame([x for x in row_reader()], columns=[\"id\",\"MBID\",\"duration\",\"name\",\"playcount\"])\n",
    "    return df\n",
    "\n",
    "df = idomaar_df(\"../data/ThirtyMusic/entities/tracks.idomaar\")"
   ]
  },
  {
   "cell_type": "code",
   "execution_count": null,
   "metadata": {},
   "outputs": [],
   "source": [
    "df.head()"
   ]
  },
  {
   "cell_type": "code",
   "execution_count": null,
   "metadata": {},
   "outputs": [],
   "source": []
  },
  {
   "cell_type": "code",
   "execution_count": null,
   "metadata": {},
   "outputs": [],
   "source": []
  },
  {
   "cell_type": "code",
   "execution_count": null,
   "metadata": {},
   "outputs": [],
   "source": []
  },
  {
   "cell_type": "code",
   "execution_count": null,
   "metadata": {},
   "outputs": [],
   "source": [
    "class registry:\n",
    "    db = dict()\n",
    "    @classmethod\n",
    "    def findorcreate(cls, key, val):\n",
    "            if key not in cls.db:\n",
    "                cls.db[key]=val\n",
    "            return cls.db[key]\n",
    "#registry.findorcreate(\"hola\",\"adios\")"
   ]
  },
  {
   "cell_type": "code",
   "execution_count": null,
   "metadata": {},
   "outputs": [],
   "source": [
    "registry.db"
   ]
  }
 ],
 "metadata": {
  "kernelspec": {
   "display_name": "Python 3",
   "language": "python",
   "name": "python3"
  },
  "language_info": {
   "codemirror_mode": {
    "name": "ipython",
    "version": 3
   },
   "file_extension": ".py",
   "mimetype": "text/x-python",
   "name": "python",
   "nbconvert_exporter": "python",
   "pygments_lexer": "ipython3",
   "version": "3.6.6"
  }
 },
 "nbformat": 4,
 "nbformat_minor": 2
}
